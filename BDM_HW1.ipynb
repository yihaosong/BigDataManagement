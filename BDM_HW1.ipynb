{
 "cells": [
  {
   "cell_type": "markdown",
   "metadata": {},
   "source": [
    "# Homework 1\n",
    "\n",
    "### DUE: 02/22/2017 before class at 9:30am\n",
    "\n",
    "This homework is for practicing Python’s *generators* and the design of *streaming* algorithms in general. We’re going to use the **citibike.csv** data set that we had played around with in the labs, and another Citibike's data set called **citibike_docking_events.csv**. Both of them are available CUNY Blackboard under *Data Sets* section. You are required to turn in this notebook with all the parts filled in place of <###>. Your notebook must be named BDM\\_HW1.ipynb."
   ]
  },
  {
   "cell_type": "markdown",
   "metadata": {},
   "source": [
    "## Task 1 (3 points)\n",
    "\n",
    "Your task is to write a generator to extract the first ride of the day from a Citibike data stream. The data stream is sorted based on starting times. The first ride of the day is interpreted as the ride with the earliest starting time of a day. For the sample data, which is a week worth of citibike records, your generator should only generate 7 items (one for each day).\n",
    "\n",
    "You are given a template with the sample generator **firstRide**. The generator currently takes in **csv.DictReader** generator and output its first element. Please adjust this generator to output the first ride of the day for the entire stream as specified above. The output of the generator must be in the same format as csv.DictReader. You can think of this generator as a filter only passing certain records out."
   ]
  },
  {
   "cell_type": "code",
   "execution_count": 1,
   "metadata": {
    "collapsed": false
   },
   "outputs": [
    {
     "name": "stdout",
     "output_type": "stream",
     "text": [
      "Sunday\n",
      "1,,801,2015-02-01 00:00:00+00,2015-02-01 00:14:00+00,521,8 Ave & W 31 St,40.75044999,-73.99481051,423,W 54 St & 9 Ave,40.76584941,-73.98690506,17131,Subscriber,1978,2\n",
      "\n",
      "\n",
      "Monday\n",
      "6442,,199,2015-02-02 00:02:00+00,2015-02-02 00:05:00+00,442,W 27 St & 7 Ave,40.746647,-73.993915,489,10 Ave & W 28 St,40.75066386,-74.00176802,20684,Subscriber,1992,1\n",
      "\n",
      "\n",
      "Tuesday\n",
      "7901,,704,2015-02-03 00:00:00+00,2015-02-03 00:12:00+00,387,Centre St & Chambers St,40.71273266,-74.0046073,2008,Little West St & 1 Pl,40.70569254,-74.01677685,20328,Subscriber,1982,1\n",
      "\n",
      "\n",
      "Wednesday\n",
      "12655,,146,2015-02-04 00:00:00+00,2015-02-04 00:02:00+00,237,E 11 St & 2 Ave,40.73047309,-73.98672378,438,St Marks Pl & 1 Ave,40.72779126,-73.98564945,15253,Subscriber,1969,1\n",
      "\n",
      "\n",
      "Thursday\n",
      "21628,,1034,2015-02-05 00:00:00+00,2015-02-05 00:17:00+00,497,E 17 St & Broadway,40.73704984,-73.99009296,461,E 20 St & 2 Ave,40.73587678,-73.98205027,20290,Subscriber,1971,1\n",
      "\n",
      "\n",
      "Friday\n",
      "30836,,212,2015-02-06 00:01:00+00,2015-02-06 00:05:00+00,491,E 24 St & Park Ave S,40.74096374,-73.98602213,472,E 32 St & Park Ave,40.7457121,-73.98194829,19891,Subscriber,1989,1\n",
      "\n",
      "\n",
      "Saturday\n",
      "39412,,424,2015-02-07 00:00:00+00,2015-02-07 00:07:00+00,116,W 17 St & 8 Ave,40.74177603,-74.00149746,489,10 Ave & W 28 St,40.75066386,-74.00176802,19071,Subscriber,1963,1\n",
      "\n",
      "\n"
     ]
    }
   ],
   "source": [
    "import csv\n",
    "import datetime\n",
    "\n",
    "### Code Written by Yihao Song \n",
    "\n",
    "### NOTE: You need to change the body of the generator firstRide\n",
    "### in order to output trip record that appeared first in each day\n",
    "### using the same dict format as csv.DictReader.\n",
    "\n",
    "def firstRide(reader):\n",
    "    early = {}\n",
    "    for row in reader:\n",
    "        if (row['starttime'].split(' ')[0]) not in early:\n",
    "            early[row['starttime'].split(' ')[0]] = row['starttime'].split(' ')[1]\n",
    "            weekDay = datetime.datetime.strptime((row['starttime'])[:-3],'%Y-%m-%d %H:%M:%S').strftime('%A')\n",
    "            print weekDay\n",
    "            yield row\n",
    "            print '\\n'\n",
    "\n",
    "### NOTE: You SHOULD NOT modify the code below. If you\n",
    "### write your firstRide generator above correctly, the\n",
    "### code below will output the correct information\n",
    "\n",
    "with open('citibike.csv', 'r') as fi:\n",
    "    reader = csv.DictReader(fi)\n",
    "    for row in firstRide(reader):\n",
    "        print ','.join(map(row.get, reader.fieldnames))\n"
   ]
  },
  {
   "cell_type": "markdown",
   "metadata": {},
   "source": [
    "## Task 2 (3 points)\n",
    "\n",
    "Your task is to **compute the maximum number of active \"citibikers\"** that were using the Citibike service at any point in time. This the same as computing the maximum number of citibikes that were checked out at a particular time. The input data set is **citibike_docking_events.csv**, which logged all docking and undocking events at all Citibike stations. The description of the fields in this file is as follows:\n",
    "\n",
    "|Column name|Description|\n",
    "|--|--|\n",
    "|time |The timestamp of the event. All events are sorted increasingly by their timestamps. |\n",
    "|bikeid |The unique ID of the bike involved in this event. |\n",
    "|station_id |The station ID, where the event happened. |\n",
    "|event |A string of either *\"dock\"* or *\"undock\"* for describing the drop-off or pick-up event, respectively. |\n",
    "\n",
    "For example, let's assume that on *Feb-01-2015*, there was a user that picked a bike at the station ID *521* at midnight and dropped it at the station ID *423* at 14 minutes past midnight. If the bike that this customer used has the ID of *17131*, then you should see two events being logged in this data set as:\n",
    "\n",
    "<pre>\n",
    "...\n",
    "2015-02-01 00:00:00+00,17131,521,undock\n",
    "...\n",
    "2015-02-01 00:14:00+00,17131,423,dock\n",
    "...\n",
    "</pre>\n",
    "\n",
    "You are given the above data set in a streaming fashion (reading in row by row), and must design a streaming algorithm that uses the least possible additional memory to compute the maximum number of active users of the Citibike service. Please modify the code snippet below to complete this task. Your code should only output a single number, which is the number of active users. Of course, you can add additional initialization codes outside of the for loop as needed.\n",
    "Additional, please provide a brief rationale and/or justification for your design after the code."
   ]
  },
  {
   "cell_type": "code",
   "execution_count": 33,
   "metadata": {
    "collapsed": false
   },
   "outputs": [
    {
     "name": "stdout",
     "output_type": "stream",
     "text": [
      "250\n"
     ]
    }
   ],
   "source": [
    "import csv\n",
    "\n",
    "def csvRows(filename):\n",
    "    with open(filename, 'r') as fi:\n",
    "        reader = csv.DictReader(fi)\n",
    "        for row in reader:\n",
    "            yield row\n",
    "\n",
    "maxActiveUsers = 0\n",
    "temp = 0\n",
    "for row in csvRows('citibike_docking_events.csv'):\n",
    "    if row['event'] == 'undock':\n",
    "        temp += 1\n",
    "        if temp > maxActiveUsers:\n",
    "            maxActiveUsers = temp\n",
    "    elif row['event'] == 'dock':\n",
    "        temp -= 1\n",
    "        \n",
    "print maxActiveUsers"
   ]
  },
  {
   "cell_type": "markdown",
   "metadata": {},
   "source": [
    "#### RATIONALE AND JUSTIFICATION\n",
    "*Please explain your solution here*\n",
    "\n",
    "    First, it is clear to see that when a bike is undock, this means there is an active biker; when a bike is dock, then there will be 1 active biker less.\n",
    "    And since we will have the current active bikers and maximum active biker, we need an additional variable to hold the count of current active biker. When going through each row, just let maxActiveUsers = max{temp, maxActiveUsers} then we will get the maxActiveUsers when the program is done."
   ]
  },
  {
   "cell_type": "markdown",
   "metadata": {},
   "source": [
    "## Task 3 (4 points)\n",
    "\n",
    "The objective of this task is identical to Task 2's but you are asked to use the **cibibike.csv** data set instead of the docking events. The main difference (and challenge) is that both pick-up and drop-off event for each trip is now presented as a single record, thus, the drop-off events are not sorted by their timestamps. You are again asked to do this in a streaming fashion that needs to minimize the amount of memory usage. Please modify the code below accordingly, and also with a brief explaination of the solution."
   ]
  },
  {
   "cell_type": "code",
   "execution_count": 91,
   "metadata": {
    "collapsed": false
   },
   "outputs": [
    {
     "name": "stdout",
     "output_type": "stream",
     "text": [
      "46200\n"
     ]
    }
   ],
   "source": [
    "import csv\n",
    "from datetime import datetime\n",
    "from datetime import time\n",
    "\n",
    "def csvRows(filename):\n",
    "    with open(filename, 'r') as fi:\n",
    "        reader = csv.DictReader(fi)\n",
    "        for row in reader:\n",
    "            yield row\n",
    "            \n",
    "def format_date(data_str):\n",
    "    return datetime.strptime(data_str, '%Y-%m-%d')\n",
    "\n",
    "def format_time(time_str):\n",
    "    return datetime.strptime(time_str, '%H:%M:%S')\n",
    "\n",
    "maxActiveUsers = 0\n",
    "currentUsers = 0\n",
    "stoptime=[]\n",
    "\n",
    "for row in csvRows('citibike.csv'):\n",
    "    temp = datetime.combine(format_date(row['stoptime'].split(' ')[0]),format_time(row['stoptime'].split(' ')[1].split('+')[0]).time())\n",
    "    if str(temp) not in stoptime:\n",
    "        stoptime.append(str(temp))\n",
    "        \n",
    "    temp1 = datetime.combine(format_date(row['starttime'].split(' ')[0]),format_time(row['starttime'].split(' ')[1].split('+')[0]).time())\n",
    "    temp2 = datetime.combine(format_date(row['stoptime'].split(' ')[0]),format_time(row['stoptime'].split(' ')[1].split('+')[0]).time())\n",
    "    if temp1 <= temp2:\n",
    "        currentUsers += 1\n",
    "    else:\n",
    "        currentUsers -= 1\n",
    "        stoptime.remove(min(stoptime))\n",
    "    if currentUsers > maxActiveUsers:\n",
    "        maxActiveUsers = currentUsers\n",
    "\n",
    "print maxActiveUsers"
   ]
  },
  {
   "cell_type": "markdown",
   "metadata": {},
   "source": [
    "#### RATIONALE AND JUSTIFICATION\n",
    "\n",
    "*Please explain your solution here*"
   ]
  }
 ],
 "metadata": {
  "kernelspec": {
   "display_name": "Python 2",
   "language": "python",
   "name": "python2"
  },
  "language_info": {
   "codemirror_mode": {
    "name": "ipython",
    "version": 2
   },
   "file_extension": ".py",
   "mimetype": "text/x-python",
   "name": "python",
   "nbconvert_exporter": "python",
   "pygments_lexer": "ipython2",
   "version": "2.7.13"
  }
 },
 "nbformat": 4,
 "nbformat_minor": 0
}
