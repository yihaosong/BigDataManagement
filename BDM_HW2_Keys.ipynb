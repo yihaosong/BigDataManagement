{
 "cells": [
  {
   "cell_type": "markdown",
   "metadata": {},
   "source": [
    "# Homework 2 - Python Higher Order Functions\n",
    "\n",
    "### DUE: 03/01/2017 before class at 9:30am\n",
    "\n",
    "In this homework, we will practice Python's higher order functions. Please note that you may only use higher order functions **without access to global variables**. Your expression should contain only **map()**, **filter()**, **sorted**, **reduce()** and your custom functions.\n",
    "\n",
    "You are required to turn in this notebook with all the parts filled in between <>. Your notebook must be named BDM\\_HW2.ipynb\n",
    "\n",
    "We will be using only the citibike data (i.e. *citibike.csv*) for this homework."
   ]
  },
  {
   "cell_type": "code",
   "execution_count": 7,
   "metadata": {
    "collapsed": true
   },
   "outputs": [],
   "source": [
    "import csv"
   ]
  },
  {
   "cell_type": "markdown",
   "metadata": {},
   "source": [
    "\n",
    "\n",
    "## Task 1 (2 points)\n",
    "\n",
    "We would like to write an HOF expression to count the total number of trip activities involved each station. For example, if a rider starts a trip at station A and ends at station B, each station A and B will receive +1 count for  the trip. The output must be tuples, each consisting of a station name and a total count. A portion of the expected output are included below.\n",
    "\n",
    "* **NOTE:** a suggested solution is given below to demonstrate the use of **sorted()**"
   ]
  },
  {
   "cell_type": "code",
   "execution_count": 2,
   "metadata": {
    "collapsed": false
   },
   "outputs": [
    {
     "data": {
      "text/plain": [
       "[('1 Ave & E 15 St', 795),\n",
       " ('1 Ave & E 44 St', 219),\n",
       " ('10 Ave & W 28 St', 422),\n",
       " ('11 Ave & W 27 St', 354),\n",
       " ('11 Ave & W 41 St', 461),\n",
       " ('11 Ave & W 59 St', 242),\n",
       " ('12 Ave & W 40 St', 217),\n",
       " ('2 Ave & E 31 St', 588),\n",
       " ('2 Ave & E 58 St', 125),\n",
       " ('3 Ave & Schermerhorn St', 34)]"
      ]
     },
     "execution_count": 2,
     "metadata": {},
     "output_type": "execute_result"
    }
   ],
   "source": [
    "def mapper1(row):\n",
    "    return (row['start_station_name'], row['end_station_name'])\n",
    "\n",
    "def reducer1(counts, pair):\n",
    "    for p in pair:\n",
    "        counts[p] = counts.get(p, 0)+1\n",
    "    return counts\n",
    "\n",
    "with open('citibike.csv', 'r') as fi:\n",
    "    reader = csv.DictReader(fi)\n",
    "    output1 = sorted(reduce(reducer1, map(mapper1, reader), {}).items())\n",
    "\n",
    "output1[:10]"
   ]
  },
  {
   "cell_type": "markdown",
   "metadata": {},
   "source": [
    "\n",
    "## Task 2 (2 points)\n",
    "\n",
    "Next, we would like to do the same task as Task 1, but only keep the stations with more than 1000 trips involved. Please add your HOF expression below."
   ]
  },
  {
   "cell_type": "code",
   "execution_count": 3,
   "metadata": {
    "collapsed": false
   },
   "outputs": [
    {
     "data": {
      "text/plain": [
       "[('8 Ave & W 31 St', 1065),\n",
       " ('E 43 St & Vanderbilt Ave', 1003),\n",
       " ('Lafayette St & E 8 St', 1013),\n",
       " ('W 21 St & 6 Ave', 1057),\n",
       " ('W 41 St & 8 Ave', 1095)]"
      ]
     },
     "execution_count": 3,
     "metadata": {},
     "output_type": "execute_result"
    }
   ],
   "source": [
    "with open('citibike.csv', 'r') as fi:\n",
    "    reader = csv.DictReader(fi)\n",
    "    output2 = sorted(filter(lambda x: x[1]>1000, reduce(reducer1, map(mapper1, reader), {}).items()))\n",
    "\n",
    "output2"
   ]
  },
  {
   "cell_type": "markdown",
   "metadata": {},
   "source": [
    "\n",
    "## Task 3 (2 points)\n",
    "\n",
    "We would like to count the number of trips taken between pairs of stations. Trips taken from station A to station B or  from station B to station A are both counted towards the station pair A and B. *Please note that the station pair should be identified by station names, as a tuple, and **in lexical order**, i.e. **(A,B)** instead of ~~(B,A)~~ in this case*. The output must be tuples, each consisting of the station pair identification and a count. A portion of the expected output are included below. Please provide your HOF expression."
   ]
  },
  {
   "cell_type": "code",
   "execution_count": 4,
   "metadata": {
    "collapsed": false
   },
   "outputs": [
    {
     "data": {
      "text/plain": [
       "[(('1 Ave & E 15 St', '1 Ave & E 15 St'), 5),\n",
       " (('1 Ave & E 15 St', '1 Ave & E 44 St'), 6),\n",
       " (('1 Ave & E 15 St', '11 Ave & W 27 St'), 1),\n",
       " (('1 Ave & E 15 St', '2 Ave & E 31 St'), 9),\n",
       " (('1 Ave & E 15 St', '5 Ave & E 29 St'), 2),\n",
       " (('1 Ave & E 15 St', '6 Ave & Broome St'), 3),\n",
       " (('1 Ave & E 15 St', '6 Ave & Canal St'), 1),\n",
       " (('1 Ave & E 15 St', '8 Ave & W 31 St'), 5),\n",
       " (('1 Ave & E 15 St', '9 Ave & W 14 St'), 3),\n",
       " (('1 Ave & E 15 St', '9 Ave & W 16 St'), 3)]"
      ]
     },
     "execution_count": 4,
     "metadata": {},
     "output_type": "execute_result"
    }
   ],
   "source": [
    "def mapper3(row):\n",
    "    return tuple(sorted((row['start_station_name'], row['end_station_name'])))\n",
    "\n",
    "def reducer3(counts, pair):\n",
    "    counts[pair] = counts.get(pair, 0)+1\n",
    "    return counts\n",
    "\n",
    "with open('citibike.csv', 'r') as fi:\n",
    "    reader = csv.DictReader(fi)\n",
    "    output3 = sorted(reduce(reducer3, map(mapper3, reader), {}).items())\n",
    "\n",
    "output3[:10]"
   ]
  },
  {
   "cell_type": "markdown",
   "metadata": {},
   "source": [
    "\n",
    "## Task 4 (2 points)\n",
    "\n",
    "Next, we would like to futher process the output from Task 3 to determine the station popularity among all of the station pairs that have 35 or more trips. The popularity of station is calculated by how many times it appears on the list. In other words, we would like to first filter the station pairs to only those that have 35 or more trips. Then, among these pairs, we count how many time each station appears and report back the counts. The output will be tuples, each consisting of the station name and a count. The expected output are included below. As illustrated, *W 41 St & 8 Ave* station is the most \"popular\" with 4 appearances. Please provide your HOF expression below. You can use the output3 from the previous task."
   ]
  },
  {
   "cell_type": "code",
   "execution_count": 5,
   "metadata": {
    "collapsed": false
   },
   "outputs": [
    {
     "data": {
      "text/plain": [
       "[('10 Ave & W 28 St', 1),\n",
       " ('11 Ave & W 27 St', 2),\n",
       " ('11 Ave & W 41 St', 1),\n",
       " ('8 Ave & W 31 St', 3),\n",
       " ('8 Ave & W 33 St', 1),\n",
       " ('9 Ave & W 22 St', 1),\n",
       " ('Adelphi St & Myrtle Ave', 1),\n",
       " ('DeKalb Ave & Hudson Ave', 1),\n",
       " ('E 10 St & Avenue A', 1),\n",
       " ('E 24 St & Park Ave S', 2),\n",
       " ('E 27 St & 1 Ave', 1),\n",
       " ('E 32 St & Park Ave', 1),\n",
       " ('E 33 St & 2 Ave', 2),\n",
       " ('E 43 St & Vanderbilt Ave', 2),\n",
       " ('E 47 St & Park Ave', 1),\n",
       " ('E 6 St & Avenue B', 1),\n",
       " ('E 7 St & Avenue A', 1),\n",
       " ('Lafayette St & E 8 St', 3),\n",
       " ('Pershing Square North', 1),\n",
       " ('Pershing Square South', 2),\n",
       " ('Vesey Pl & River Terrace', 1),\n",
       " ('W 17 St & 8 Ave', 1),\n",
       " ('W 20 St & 11 Ave', 2),\n",
       " ('W 21 St & 6 Ave', 1),\n",
       " ('W 26 St & 8 Ave', 1),\n",
       " ('W 31 St & 7 Ave', 2),\n",
       " ('W 33 St & 7 Ave', 2),\n",
       " ('W 41 St & 8 Ave', 4),\n",
       " ('West Thames St', 1)]"
      ]
     },
     "execution_count": 5,
     "metadata": {},
     "output_type": "execute_result"
    }
   ],
   "source": [
    "output4 = sorted(reduce(reducer1, map(lambda x: x[0], filter(lambda x: x[1]>=35, output3)), {}).items())\n",
    "output4"
   ]
  },
  {
   "cell_type": "markdown",
   "metadata": {},
   "source": [
    "\n",
    "## Task 5 (2 points)\n",
    "\n",
    "In this task, you are asked to compute the station with the most riders started from, per each gender of the *'Subscriber'* user. Meaning, what was the station name with the highest number of bike pickups for female riders, for male riders and for unknown riders.\n",
    "\n",
    "The output will be a list of tuples, each includes a gender label (as indicated below) and another tuple consisting of a station name, and the total number of trips started at that station for that gender. The expected output are included below. Please provide your HOF expression below.\n",
    "\n",
    "The label mapping for the gender column in citibike.csv is: (Zero=**Unknown**; 1=**Male**; 2=**Female**)"
   ]
  },
  {
   "cell_type": "code",
   "execution_count": 9,
   "metadata": {
    "collapsed": false
   },
   "outputs": [
    {
     "data": {
      "text/plain": [
       "[('Female', ('W 21 St & 6 Ave', 107)),\n",
       " ('Male', ('8 Ave & W 31 St', 488)),\n",
       " ('Unknown', ('Fulton St & William St', 1))]"
      ]
     },
     "execution_count": 9,
     "metadata": {},
     "output_type": "execute_result"
    }
   ],
   "source": [
    "def mapper5(row):\n",
    "    return ((int(row['gender']), row['start_station_name']), row['usertype']=='Subscriber')\n",
    "\n",
    "def reducer5(gc, (gender_station, count)):\n",
    "    gc[gender_station] = gc.get(gender_station, 0) + count\n",
    "    return gc\n",
    "\n",
    "def mapper6((gender, station_count)):\n",
    "    label = ('Unknown', 'Male', 'Female')\n",
    "    return (label[gender], station_count)\n",
    "\n",
    "def reducer6(gc, ((gender, station), count)):\n",
    "    if count>gc.get(gender, (None, 0))[1]:\n",
    "        gc[gender] = (station, count)\n",
    "    return gc\n",
    "\n",
    "with open('citibike.csv', 'r') as fi:\n",
    "    reader = csv.DictReader(fi)\n",
    "    output5 = sorted(map(mapper6, \n",
    "                         reduce(reducer6, \n",
    "                                reduce(reducer5, \n",
    "                                       map(mapper5, reader), {}\n",
    "                                      ).items(), {}\n",
    "                               ).items()\n",
    "                        )\n",
    "                    )\n",
    "\n",
    "output5"
   ]
  },
  {
   "cell_type": "code",
   "execution_count": null,
   "metadata": {
    "collapsed": true
   },
   "outputs": [],
   "source": []
  }
 ],
 "metadata": {
  "kernelspec": {
   "display_name": "Python 2",
   "language": "python",
   "name": "python2"
  },
  "language_info": {
   "codemirror_mode": {
    "name": "ipython",
    "version": 2
   },
   "file_extension": ".py",
   "mimetype": "text/x-python",
   "name": "python",
   "nbconvert_exporter": "python",
   "pygments_lexer": "ipython2",
   "version": "2.7.12"
  }
 },
 "nbformat": 4,
 "nbformat_minor": 0
}
